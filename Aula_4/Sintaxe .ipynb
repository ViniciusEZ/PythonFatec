{
 "cells": [
  {
   "cell_type": "markdown",
   "id": "470ac7ee",
   "metadata": {},
   "source": [
    "# COISAS IMPORTANTES"
   ]
  },
  {
   "cell_type": "markdown",
   "id": "80d889e1",
   "metadata": {},
   "source": [
    "o código fonte deve ser rigorosamente seguido.\n",
    "\n",
    "e.g\n",
    "\n",
    "* 1 Respeite as inentações\n",
    "NÃO FAÇA ISSO :)\n",
    "\n",
    "eu bola gosto bater mim portão\n",
    "\n",
    "int main(){\n",
    "\n",
    "   gdshadg;\n",
    "   \n",
    "      jhusahdj;\n",
    "\n",
    "}\n",
    "\n",
    "*2 Não adicione espaços nas funções e nos objetos\n",
    "\n",
    "correto:\n",
    "print(1) \n",
    "\n",
    "\n",
    "errado:\n",
    "print (1)\n",
    "\n",
    "*3 Contudo, adicione espaço entre variáveis, valores e entre valores e valores\n",
    "\n",
    "correto:\n",
    "variavel = 4\n",
    "\n",
    "errado: \n",
    "variavel=4\n",
    "3+3"
   ]
  },
  {
   "cell_type": "markdown",
   "id": "76b117e4",
   "metadata": {},
   "source": [
    "KEYWORDS\n",
    "dry - don't repeat yourself\n",
    "\n",
    "Data sanitation\n",
    "\n"
   ]
  },
  {
   "cell_type": "markdown",
   "id": "74fbcc93",
   "metadata": {},
   "source": [
    "# DRY"
   ]
  },
  {
   "cell_type": "code",
   "execution_count": 28,
   "id": "923ede11",
   "metadata": {},
   "outputs": [
    {
     "name": "stdout",
     "output_type": "stream",
     "text": [
      "Olá estranho, seja bem-vindo: \n",
      "Selecione as opções abaixo: \n",
      "[1] - Café\n",
      "[2] - Cappucino\n",
      "[3] - Macchiato\n",
      "[4] - Espresso\n",
      "[5] - Chá\n",
      ">>> \n"
     ]
    }
   ],
   "source": [
    "# Don't repeat yourself (Evite repetições)\n",
    "\n",
    "print(\"Olá estranho, seja bem-vindo: \")\n",
    "print(\"Selecione as opções abaixo: \")\n",
    "print(\"[1] - Café\")\n",
    "print(\"[2] - Cappucino\")\n",
    "print(\"[3] - Macchiato\")\n",
    "print(\"[4] - Espresso\")\n",
    "print(\"[5] - Chá\")\n",
    "opcao = input(\">>> \")\n",
    "\n",
    "\n",
    "\n",
    "\n"
   ]
  },
  {
   "cell_type": "code",
   "execution_count": 26,
   "id": "4322b477",
   "metadata": {},
   "outputs": [
    {
     "name": "stdout",
     "output_type": "stream",
     "text": [
      "5\n"
     ]
    }
   ],
   "source": [
    "print(opcao)"
   ]
  },
  {
   "cell_type": "markdown",
   "id": "7933f98b",
   "metadata": {},
   "source": [
    "# LAÇO DE REPETIÇÃO\n"
   ]
  },
  {
   "cell_type": "code",
   "execution_count": 30,
   "id": "a514e3f9",
   "metadata": {},
   "outputs": [
    {
     "name": "stdout",
     "output_type": "stream",
     "text": [
      "=^^=\n",
      "=^^=\n",
      "=^^=\n",
      "=^^=\n",
      "=^^=\n",
      "=^^=\n",
      "=^^=\n",
      "=^^=\n",
      "=^^=\n",
      "=^^=\n"
     ]
    }
   ],
   "source": [
    "# Jeito cavalo\n",
    "\n",
    "\n",
    "print(\"=^^=\")\n",
    "print(\"=^^=\")\n",
    "print(\"=^^=\")\n",
    "print(\"=^^=\")\n",
    "print(\"=^^=\")\n",
    "print(\"=^^=\")\n",
    "print(\"=^^=\")\n",
    "print(\"=^^=\")\n",
    "print(\"=^^=\")\n",
    "print(\"=^^=\")\n"
   ]
  },
  {
   "cell_type": "markdown",
   "id": "8e7f4767",
   "metadata": {},
   "source": [
    "# ESTRUTURA DE REPETIÇÃO FOR\n",
    "\n",
    "**for** *variavel* **in** *ITERÁVEL*"
   ]
  },
  {
   "cell_type": "markdown",
   "id": "e8e99569",
   "metadata": {},
   "source": [
    "O **for** traduzido para o português fica:\n",
    "\"**Para cada elemento** (for) **dentro do** *ITERÁVEL* salve temporariamente o valor contido no *ITERÁVEL* na variável 'variavel'\"\n",
    "\n",
    "\"Execute o código abaixo o mesmo tanto de vezes que o tamanho do *ITERÁVEL*\""
   ]
  },
  {
   "cell_type": "code",
   "execution_count": 32,
   "id": "c4188e12",
   "metadata": {},
   "outputs": [],
   "source": [
    "# iteráveis\n",
    "\n",
    "listas = [1, \"texto\", []] # Listas aceitam quaisquer objetos que o python suporta.\n",
    "textos = \"O rato roeu a roupa do rei de roma\"\n",
    "tuplas = (1, \"texto\", []) # Tuplas aceitam quaisquer objetos que o python suporta.\n",
    "dicionario_de_uma_linha = {\"chave\": \"valor\", \"dog\": \"cachorro\"}\n",
    "dicionario_de_varias_linhas = {\n",
    "    \"chave\": \"valor\",\n",
    "    \"dog\": \"cachorro\"\n",
    "}\n",
    "alcance_escopo = range(10)\n"
   ]
  },
  {
   "cell_type": "markdown",
   "id": "a206601c",
   "metadata": {},
   "source": [
    "# TRABALHANDO OS DADOS\n",
    "\n",
    "* listas\n",
    "* texto\n",
    "* tuplas\n",
    "* dicionário\n",
    "* range"
   ]
  },
  {
   "cell_type": "code",
   "execution_count": 34,
   "id": "1d506a9f",
   "metadata": {},
   "outputs": [
    {
     "name": "stdout",
     "output_type": "stream",
     "text": [
      "=^^=\n",
      "=^^=\n",
      "=^^=\n",
      "=^^=\n",
      "=^^=\n",
      "=^^=\n",
      "=^^=\n",
      "=^^=\n",
      "=^^=\n",
      "=^^=\n"
     ]
    }
   ],
   "source": [
    "for VARIAVEL in range(10):\n",
    "    print(\"=^^=\")"
   ]
  },
  {
   "cell_type": "code",
   "execution_count": 38,
   "id": "55edd300",
   "metadata": {},
   "outputs": [
    {
     "name": "stdout",
     "output_type": "stream",
     "text": [
      "azeitona\n",
      "chocolate\n",
      "papel higiênico\n",
      "pasta de dente\n",
      "salgadinho\n",
      "carne moida\n"
     ]
    }
   ],
   "source": [
    "# Trabalhando com listas\n",
    "\n",
    "tamanho_minimo = 8\n",
    "compras = [\"arroz\", \"picanha\", \"azeitona\", \"chocolate\", \"feijão\", \"batata\", \"sushi\", \"papel higiênico\", \"pasta de dente\", \"vinho\", \"salgadinho\", \"carne moida\", \"leite\"]\n",
    "for item in compras:\n",
    "    if len(item) < tamanho_minimo:\n",
    "        pass\n",
    "    \n",
    "    else:\n",
    "        print(item)\n",
    "        \n",
    "           \n"
   ]
  },
  {
   "cell_type": "code",
   "execution_count": 43,
   "id": "ff8553e0",
   "metadata": {},
   "outputs": [
    {
     "name": "stdout",
     "output_type": "stream",
     "text": [
      "1, ímpar\n",
      "2, par\n",
      "3, ímpar\n",
      "4, par\n",
      "5, ímpar\n",
      "6, par\n",
      "7, ímpar\n",
      "8, par\n",
      "9, ímpar\n",
      "10, par\n",
      "11, ímpar\n",
      "12, par\n",
      "13, ímpar\n",
      "14, par\n",
      "15, ímpar\n",
      "16, par\n",
      "17, ímpar\n",
      "18, par\n",
      "19, ímpar\n",
      "20, par\n",
      "21, ímpar\n",
      "22, par\n",
      "23, ímpar\n",
      "24, par\n",
      "25, ímpar\n",
      "26, par\n",
      "27, ímpar\n",
      "28, par\n",
      "29, ímpar\n",
      "30, par\n",
      "31, ímpar\n",
      "32, par\n",
      "33, ímpar\n",
      "34, par\n",
      "35, ímpar\n",
      "36, par\n",
      "37, ímpar\n",
      "38, par\n",
      "39, ímpar\n",
      "40, par\n",
      "41, ímpar\n",
      "42, par\n",
      "43, ímpar\n",
      "44, par\n",
      "45, ímpar\n",
      "46, par\n",
      "47, ímpar\n",
      "48, par\n",
      "49, ímpar\n",
      "50, par\n"
     ]
    }
   ],
   "source": [
    "# DESAFIO 1: Par, Impar\n",
    "# range (51)\n",
    "\n",
    "for numero in range(1, 51):\n",
    "    if (numero%2) == 0:\n",
    "        print(f\"{numero}, par\")\n",
    "              \n",
    "    else:\n",
    "        print(f\"{numero}, ímpar\")\n"
   ]
  },
  {
   "cell_type": "code",
   "execution_count": 59,
   "id": "fd515c7d",
   "metadata": {},
   "outputs": [
    {
     "name": "stdout",
     "output_type": "stream",
     "text": [
      "1 toranja\n",
      "2 bergamota\n",
      "3 figo\n"
     ]
    }
   ],
   "source": [
    "#for frutas in [\"toranja\", \"bergamota\", \"figo\"]:\n",
    " #   print(frutas)\n",
    "frutas = [\"toranja\", \"bergamota\", \"figo\"]\n",
    "for posicao, fruta in enumerate(frutas):\n",
    "    print(posicao + 1, fruta)"
   ]
  },
  {
   "cell_type": "markdown",
   "id": "2f5952dd",
   "metadata": {},
   "source": [
    "# CRIANDO UM MENU"
   ]
  },
  {
   "cell_type": "code",
   "execution_count": 65,
   "id": "a725f714",
   "metadata": {},
   "outputs": [
    {
     "name": "stdout",
     "output_type": "stream",
     "text": [
      "[1] - chá\n",
      "[2] - chocolate quente\n",
      "[3] - espresso\n",
      "[4] - capuccino\n",
      "[5] - pingado\n"
     ]
    }
   ],
   "source": [
    "# MENU de um restaurante\n",
    "opcoes = [\"chá\", \"chocolate quente\", \"espresso\", \"capuccino\", \"pingado\"]\n",
    "\n",
    "for posicao, opcao in enumerate(opcoes):\n",
    "    print(f\"[{posicao + 1}] - {opcao}\")\n",
    "    \n",
    "pedido = input(\"Selecione uma das opções acima: \")"
   ]
  },
  {
   "cell_type": "code",
   "execution_count": 67,
   "id": "7d10b577",
   "metadata": {},
   "outputs": [
    {
     "data": {
      "text/plain": [
       "'10'"
      ]
     },
     "execution_count": 67,
     "metadata": {},
     "output_type": "execute_result"
    }
   ],
   "source": [
    "f\"{5 + 5}\""
   ]
  },
  {
   "cell_type": "code",
   "execution_count": null,
   "id": "7a74ea9d",
   "metadata": {},
   "outputs": [],
   "source": []
  }
 ],
 "metadata": {
  "kernelspec": {
   "display_name": "Python 3 (ipykernel)",
   "language": "python",
   "name": "python3"
  },
  "language_info": {
   "codemirror_mode": {
    "name": "ipython",
    "version": 3
   },
   "file_extension": ".py",
   "mimetype": "text/x-python",
   "name": "python",
   "nbconvert_exporter": "python",
   "pygments_lexer": "ipython3",
   "version": "3.9.7"
  }
 },
 "nbformat": 4,
 "nbformat_minor": 5
}
