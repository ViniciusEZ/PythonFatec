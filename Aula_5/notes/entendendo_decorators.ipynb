{
 "cells": [
  {
   "cell_type": "markdown",
   "id": "b359cb48",
   "metadata": {},
   "source": [
    "# DECORATORS\n",
    "\n",
    "* O que são decorators?\n",
    "* Como aplicar decorators?\n",
    "* Decorator como classe\n",
    "* Flask\n"
   ]
  },
  {
   "cell_type": "markdown",
   "id": "5c8b3c02",
   "metadata": {},
   "source": [
    "Em nível de função lambda, segue o exemplo:\n"
   ]
  },
  {
   "cell_type": "code",
   "execution_count": 8,
   "id": "b70db32d",
   "metadata": {},
   "outputs": [
    {
     "name": "stdout",
     "output_type": "stream",
     "text": [
      "Cavalo!\n"
     ]
    }
   ],
   "source": [
    "# Uma função que retorna outra função\n",
    "pegar_cep = lambda: print\n",
    "pegar_cep()(\"Cavalo!\") # O pegar_cep() é convertido em para print"
   ]
  },
  {
   "cell_type": "markdown",
   "id": "e578f081",
   "metadata": {},
   "source": [
    "### CRIANDO FUNÇÕES"
   ]
  },
  {
   "cell_type": "code",
   "execution_count": 16,
   "id": "68b050a5",
   "metadata": {},
   "outputs": [],
   "source": [
    "def func():\n",
    "    pass"
   ]
  },
  {
   "cell_type": "markdown",
   "id": "a199d6ca",
   "metadata": {},
   "source": [
    "#### * Função que retorna valor"
   ]
  },
  {
   "cell_type": "code",
   "execution_count": 17,
   "id": "2118c4f5",
   "metadata": {},
   "outputs": [
    {
     "data": {
      "text/plain": [
       "'Valor retornado'"
      ]
     },
     "execution_count": 17,
     "metadata": {},
     "output_type": "execute_result"
    }
   ],
   "source": [
    "def retorna_valor():\n",
    "    return \"Valor retornado\"\n",
    "\n",
    "retorna_valor()"
   ]
  },
  {
   "cell_type": "markdown",
   "id": "2ab38708",
   "metadata": {},
   "source": [
    "#### * Função que recebe e retorna\n",
    "\n",
    "* Função com parâmetro(s): Função com variável"
   ]
  },
  {
   "cell_type": "code",
   "execution_count": 65,
   "id": "79b95d38",
   "metadata": {},
   "outputs": [
    {
     "name": "stdout",
     "output_type": "stream",
     "text": [
      "fatecfatecfatec\n",
      "6\n"
     ]
    }
   ],
   "source": [
    "def func2(parametro): # Parâmetro -> variável\n",
    "    return parametro * 3\n",
    "\n",
    "print(func2(\"fatec\")) # Argumento -> valor literal\n",
    "print(func2(2))"
   ]
  },
  {
   "cell_type": "code",
   "execution_count": 66,
   "id": "0596b65b",
   "metadata": {},
   "outputs": [],
   "source": [
    "# Crie uma função que quando chamada e passada um valor\n",
    "# inteiro, retorne o mesmo -1 \n",
    "# Se o valor passadp for um float, trunkate 1.2 -> 1\n",
    "# se o valor passado for texto retorne :)"
   ]
  },
  {
   "cell_type": "code",
   "execution_count": 97,
   "id": "5725b255",
   "metadata": {},
   "outputs": [
    {
     "ename": "NameError",
     "evalue": "name 'f' is not defined",
     "output_type": "error",
     "traceback": [
      "\u001b[1;31m---------------------------------------------------------------------------\u001b[0m",
      "\u001b[1;31mNameError\u001b[0m                                 Traceback (most recent call last)",
      "\u001b[1;32mC:\\Users\\FATECS~1\\AppData\\Local\\Temp/ipykernel_2792/3698935111.py\u001b[0m in \u001b[0;36m<module>\u001b[1;34m\u001b[0m\n\u001b[0;32m      9\u001b[0m \u001b[1;33m\u001b[0m\u001b[0m\n\u001b[0;32m     10\u001b[0m \u001b[1;33m\u001b[0m\u001b[0m\n\u001b[1;32m---> 11\u001b[1;33m \u001b[0mfunc3\u001b[0m\u001b[1;33m(\u001b[0m\u001b[0mf\u001b[0m\u001b[1;33m)\u001b[0m\u001b[1;33m\u001b[0m\u001b[1;33m\u001b[0m\u001b[0m\n\u001b[0m",
      "\u001b[1;31mNameError\u001b[0m: name 'f' is not defined"
     ]
    }
   ],
   "source": [
    "def func3(parametro):\n",
    "    if type(parametro) == int:\n",
    "        return parametro - 1\n",
    "    elif type(parametro) ==  float:\n",
    "        return int(parametro)\n",
    "    else:\n",
    "        return \":)\"\n",
    "    \n",
    "        \n",
    "    \n",
    "func3(f)"
   ]
  },
  {
   "cell_type": "code",
   "execution_count": 99,
   "id": "d9a32ca2",
   "metadata": {},
   "outputs": [],
   "source": [
    "# Crie uma função que retorne três valores aleatórios"
   ]
  },
  {
   "cell_type": "code",
   "execution_count": 156,
   "id": "d37a97b0",
   "metadata": {},
   "outputs": [
    {
     "data": {
      "text/plain": [
       "[4, 9, 12, 19, 20, 33]"
      ]
     },
     "execution_count": 156,
     "metadata": {},
     "output_type": "execute_result"
    }
   ],
   "source": [
    "import random\n",
    "\n",
    "def mega_sena():\n",
    "    digitos = []\n",
    "    for i in range(6):\n",
    "        digitos.append(random.randint(1,60))\n",
    "        digitos.sort()\n",
    "    return digitos\n",
    "\n",
    "mega_sena()"
   ]
  },
  {
   "cell_type": "code",
   "execution_count": null,
   "id": "b6866e50",
   "metadata": {},
   "outputs": [],
   "source": []
  }
 ],
 "metadata": {
  "kernelspec": {
   "display_name": "Python 3 (ipykernel)",
   "language": "python",
   "name": "python3"
  },
  "language_info": {
   "codemirror_mode": {
    "name": "ipython",
    "version": 3
   },
   "file_extension": ".py",
   "mimetype": "text/x-python",
   "name": "python",
   "nbconvert_exporter": "python",
   "pygments_lexer": "ipython3",
   "version": "3.9.7"
  }
 },
 "nbformat": 4,
 "nbformat_minor": 5
}
